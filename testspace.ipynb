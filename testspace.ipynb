{
 "cells": [
  {
   "cell_type": "code",
   "execution_count": null,
   "id": "5d292e12",
   "metadata": {},
   "outputs": [
    {
     "name": "stdout",
     "output_type": "stream",
     "text": [
      "{\"timestamp\":\"2025-08-11T23:48:33.286+00:00\",\"error\":\"Track not found with id : '2670c328-c40f-45f4-80df-f48b29296deb' not found\",\"path\":\"uri=/v1/track/2670c328-c40f-45f4-80df-f48b29296deb/audio-features\",\"status\":4041}\n"
     ]
    }
   ],
   "source": [
    "import http.client\n",
    "import ssl\n",
    "\n",
    "# Create an unverified SSL context\n",
    "context = ssl._create_unverified_context()\n",
    "\n",
    "conn = http.client.HTTPSConnection(\"api.reccobeats.com\", context=context)\n",
    "payload = ''\n",
    "headers = {\n",
    "  'Accept': 'application/json'\n",
    "}\n",
    "\n",
    "# Replace :id with the actual ID\n",
    "conn.request(\"GET\", \"/v1/track/2670c328-c40f-45f4-80df-f48b29296deb/audio-features\", payload, headers)\n",
    "res = conn.getresponse()\n",
    "data = res.read()\n",
    "print(data.decode(\"utf-8\"))"
   ]
  },
  {
   "cell_type": "code",
   "execution_count": null,
   "id": "0c5b9ffa",
   "metadata": {},
   "outputs": [],
   "source": []
  }
 ],
 "metadata": {
  "kernelspec": {
   "display_name": "Python 3",
   "language": "python",
   "name": "python3"
  },
  "language_info": {
   "codemirror_mode": {
    "name": "ipython",
    "version": 3
   },
   "file_extension": ".py",
   "mimetype": "text/x-python",
   "name": "python",
   "nbconvert_exporter": "python",
   "pygments_lexer": "ipython3",
   "version": "3.11.4"
  }
 },
 "nbformat": 4,
 "nbformat_minor": 5
}
